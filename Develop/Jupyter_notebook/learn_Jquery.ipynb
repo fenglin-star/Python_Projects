{
 "cells": [
  {
   "cell_type": "code",
   "execution_count": 13,
   "metadata": {
    "collapsed": false
   },
   "outputs": [
    {
     "name": "stdout",
     "output_type": "stream",
     "text": [
      "<div id=\"jpnode\">\n",
      "\n",
      "<h1 class=\"h\">Illustration of the installation method of small clip spring</h1>\n",
      "\n",
      "<div class=\"zk0\"><div class=\"ct tt zooms\" id=\"zoom\"><p><img src=\"https://cdn.rouding.com/uploadfile/2442001/12/5E1A2B360DF61C2F1CED65D7.jpg-th.jpg\"/></p><p>The spring of the little bamboo clip for drying clothes fell off¡£<br/><br/>Share the installation method illustrated tutorial¡£<br/><br/></p><hr/><img src=\"https://cdn.rouding.com/uploadfile/2442001/12/5E1A2B9D0DF61C2F1CED65D8.jpg-th.jpg\"/><p>1¡¢Install the half of the small clip first¡£<br/><br/></p><hr/><img src=\"https://cdn.rouding.com/uploadfile/2442001/12/5E1A2BCD0DF61C2F1CED65D9.jpg-th.jpg\"/><p>2¡¢Half installed¡£<br/><br/></p><hr/><img src=\"https://cdn.rouding.com/uploadfile/2442001/12/5E1A2BE30DF61C2F1CED65DA.jpg-th.jpg\"/><p>3¡¢Install the other half¡£<br/><br/></p><hr/><img src=\"https://cdn.rouding.com/uploadfile/2442001/12/5E1A2BF40DF61C2F1CED65DB.jpg-th.jpg\"/><p>4¡¢It needs some strength to break it up¡£<br/><br/></p><hr/><img src=\"https://cdn.rouding.com/uploadfile/2442001/12/5E1A2C0B0DF61C2F1CED65DC.jpg-th.jpg\"/><p>5¡¢Push forward¡£<br/><br/></p><hr/><img src=\"https://cdn.rouding.com/uploadfile/2442001/12/5E1A2C230DF61C2F1CED65DD.jpg-th.jpg\"/><p>6¡¢installation is complete£¡</p><hr/><img src=\"https://cdn.rouding.com/uploadfile/2442001/12/5E1A2C3B0DF61C2F1CED65DE.jpg-th.jpg\"/><p>7¡¢Intact as before~</p><hr/><p>Explain£º</p><p>1¡¢If the spring is not lost, you can slowly align the two sides of the clip and insert the spring£¬There is a spring shaft socket with holes at both ends of the spring installation part£¬Installation time£¬First, align the holes of the spring shaft socket at one end of the two hairpins£¬Insert the spring shaft in part£¬Put the spring on the shaft again£¬Then push the spring shaft inward into the hole of the spring shaft socket at the other end¡£<br/><br/></p><p>2¡¢It takes more force to push the spring into the middle of the dummy word£¬Then more effort is needed to align the hole of the spring shaft socket of the other hairpin with the spring shaft£¬Force the spring shaft in while aligning£¬So the spring is installed¡£<br/><br/></p><p>3¡¢If the spring is installed£¬Not enough force to install back£¬It can be mounted against a hard object£¬This will make the installation easier¡£<br/><br/></p><p>4¡¢When installing the spring£¬Because the spring is elastic£¬It is easy to pop up.£¬Therefore, protection is needed£¬This will prevent the spring from bouncing£¬It can also effectively avoid the situation that the spring can't be found after it bounces away¡£<br/><br/></p></div><label class=\"zk\" for=\"zk1\"><div class=\"zk2\">Unfolding the full text...</div></label></div>\n",
      "\n",
      "</div>\n",
      "\n",
      "\n",
      "<class 'pyquery.pyquery.PyQuery'>\n",
      "Illustration of the installation method of small clip spring\n",
      "\n",
      "\n",
      "<div id=\"jpnode\">\n",
      "\n",
      "<h1 class=\"h\">Illustration of the installation method of small clip spring</h1>\n",
      "\n",
      "<div class=\"zk0\"><div class=\"ct tt zooms\" id=\"zoom\"><p><img src=\"https://cdn.rouding.com/uploadfile/2442001/12/5E1A2B360DF61C2F1CED65D7.jpg-th.jpg\"/></p><p>The spring of the little bamboo clip for drying clothes fell off¡£<br/><br/>Share the installation method illustrated tutorial¡£<br/><br/></p><hr/><img src=\"https://cdn.rouding.com/uploadfile/2442001/12/5E1A2B9D0DF61C2F1CED65D8.jpg-th.jpg\"/><p>1¡¢Install the half of the small clip first¡£<br/><br/></p><hr/><img src=\"https://cdn.rouding.com/uploadfile/2442001/12/5E1A2BCD0DF61C2F1CED65D9.jpg-th.jpg\"/><p>2¡¢Half installed¡£<br/><br/></p><hr/><img src=\"https://cdn.rouding.com/uploadfile/2442001/12/5E1A2BE30DF61C2F1CED65DA.jpg-th.jpg\"/><p>3¡¢Install the other half¡£<br/><br/></p><hr/><img src=\"https://cdn.rouding.com/uploadfile/2442001/12/5E1A2BF40DF61C2F1CED65DB.jpg-th.jpg\"/><p>4¡¢It needs some strength to break it up¡£<br/><br/></p><hr/><img src=\"https://cdn.rouding.com/uploadfile/2442001/12/5E1A2C0B0DF61C2F1CED65DC.jpg-th.jpg\"/><p>5¡¢Push forward¡£<br/><br/></p><hr/><img src=\"https://cdn.rouding.com/uploadfile/2442001/12/5E1A2C230DF61C2F1CED65DD.jpg-th.jpg\"/><p>6¡¢installation is complete£¡</p><hr/><img src=\"https://cdn.rouding.com/uploadfile/2442001/12/5E1A2C3B0DF61C2F1CED65DE.jpg-th.jpg\"/><p>7¡¢Intact as before~</p><hr/><p>Explain£º</p><p>1¡¢If the spring is not lost, you can slowly align the two sides of the clip and insert the spring£¬There is a spring shaft socket with holes at both ends of the spring installation part£¬Installation time£¬First, align the holes of the spring shaft socket at one end of the two hairpins£¬Insert the spring shaft in part£¬Put the spring on the shaft again£¬Then push the spring shaft inward into the hole of the spring shaft socket at the other end¡£<br/><br/></p><p>2¡¢It takes more force to push the spring into the middle of the dummy word£¬Then more effort is needed to align the hole of the spring shaft socket of the other hairpin with the spring shaft£¬Force the spring shaft in while aligning£¬So the spring is installed¡£<br/><br/></p><p>3¡¢If the spring is installed£¬Not enough force to install back£¬It can be mounted against a hard object£¬This will make the installation easier¡£<br/><br/></p><p>4¡¢When installing the spring£¬Because the spring is elastic£¬It is easy to pop up.£¬Therefore, protection is needed£¬This will prevent the spring from bouncing£¬It can also effectively avoid the situation that the spring can't be found after it bounces away¡£<br/><br/></p></div><label class=\"zk\" for=\"zk1\"><div class=\"zk2\">Unfolding the full text...</div></label></div>\n",
      "\n",
      "</div>\n"
     ]
    }
   ],
   "source": [
    "# Jquery在线匹配测试\n",
    "\n",
    "doc = pq('https://jp.202014.xyz/Web_App/translate/0.html')\n",
    "# doc1 = pq(url='https://www.baidu.com')\n",
    "print(doc)\n",
    "print(\"\\n\")\n",
    "content = doc('h1')\n",
    "print(type(content))\n",
    "print(content.text())\n",
    "\n",
    "print(\"\\n\")\n",
    "print(doc('#jpnode'))\n"
   ]
  },
  {
   "cell_type": "code",
   "execution_count": null,
   "metadata": {
    "collapsed": true
   },
   "outputs": [],
   "source": []
  },
  {
   "cell_type": "code",
   "execution_count": null,
   "metadata": {
    "collapsed": true
   },
   "outputs": [],
   "source": []
  },
  {
   "cell_type": "code",
   "execution_count": 2,
   "metadata": {
    "collapsed": false
   },
   "outputs": [
    {
     "name": "stdout",
     "output_type": "stream",
     "text": [
      "<div>\n",
      "    <ul>\n",
      "         <li class=\"item-0\">first item</li>\n",
      "         <li class=\"item-1\"><a href=\"link2.html\">second item</a></li>\n",
      "         <li class=\"item-0 active\"><a href=\"link3.html\"><span class=\"bold\">third item</span></a></li>\n",
      "         <li class=\"item-1 active\"><a href=\"link4.html\">fourth item</a></li>\n",
      "         <li class=\"item-0\"><a href=\"link5.html\">fifth item</a></li>\n",
      "     </ul></div>\n",
      "<class 'pyquery.pyquery.PyQuery'>\n",
      "<li class=\"item-0\">first item</li>\n",
      "         <li class=\"item-1\"><a href=\"link2.html\">second item</a></li>\n",
      "         <li class=\"item-0 active\"><a href=\"link3.html\"><span class=\"bold\">third item</span></a></li>\n",
      "         <li class=\"item-1 active\"><a href=\"link4.html\">fourth item</a></li>\n",
      "         <li class=\"item-0\"><a href=\"link5.html\">fifth item</a></li>\n",
      "     \n"
     ]
    }
   ],
   "source": [
    "#字符串的初始化\n",
    "\n",
    "from pyquery import PyQuery as pq\n",
    " \n",
    "html = '''<div>\n",
    "    <ul>\n",
    "         <li class=\"item-0\">first item</li>\n",
    "         <li class=\"item-1\"><a href=\"link2.html\">second item</a></li>\n",
    "         <li class=\"item-0 active\"><a href=\"link3.html\"><span class=\"bold\">third item</span></a></li>\n",
    "         <li class=\"item-1 active\"><a href=\"link4.html\">fourth item</a></li>\n",
    "         <li class=\"item-0\"><a href=\"link5.html\">fifth item</a></li>\n",
    "     </ul></div>'''\n",
    " \n",
    "doc = pq(html)\n",
    "print(doc)\n",
    "print(type(doc))\n",
    "print(doc('li'))"
   ]
  },
  {
   "cell_type": "code",
   "execution_count": 6,
   "metadata": {
    "collapsed": false
   },
   "outputs": [
    {
     "name": "stdout",
     "output_type": "stream",
     "text": [
      "<html> <head><meta http-equiv=\"content-type\" content=\"text/html;charset=utf-8\"/><meta http-equiv=\"X-UA-Compatible\" content=\"IE=Edge\"/><meta content=\"always\" name=\"referrer\"/><link rel=\"stylesheet\" type=\"text/css\" href=\"https://ss1.bdstatic.com/5eN1bjq8AAUYm2zgoY3K/r/www/cache/bdorz/baidu.min.css\"/><title>ç¾åº¦ä¸ä¸ï¼ä½ å°±ç¥é</title></head> <body link=\"#0000cc\"> <div id=\"wrapper\"> <div id=\"head\"> <div class=\"head_wrapper\"> <div class=\"s_form\"> <div class=\"s_form_wrapper\"> <div id=\"lg\"> <img hidefocus=\"true\" src=\"//www.baidu.com/img/bd_logo1.png\" width=\"270\" height=\"129\"/> </div> <form id=\"form\" name=\"f\" action=\"//www.baidu.com/s\" class=\"fm\"> <input type=\"hidden\" name=\"bdorz_come\" value=\"1\"/> <input type=\"hidden\" name=\"ie\" value=\"utf-8\"/> <input type=\"hidden\" name=\"f\" value=\"8\"/> <input type=\"hidden\" name=\"rsv_bp\" value=\"1\"/> <input type=\"hidden\" name=\"rsv_idx\" value=\"1\"/> <input type=\"hidden\" name=\"tn\" value=\"baidu\"/><span class=\"bg s_ipt_wr\"><input id=\"kw\" name=\"wd\" class=\"s_ipt\" value=\"\" maxlength=\"255\" autocomplete=\"off\" autofocus=\"autofocus\"/></span><span class=\"bg s_btn_wr\"><input type=\"submit\" id=\"su\" value=\"ç¾åº¦ä¸ä¸\" class=\"bg s_btn\" autofocus=\"\"/></span> </form> </div> </div> <div id=\"u1\"> <a href=\"http://news.baidu.com\" name=\"tj_trnews\" class=\"mnav\">æ°é»</a> <a href=\"https://www.hao123.com\" name=\"tj_trhao123\" class=\"mnav\">hao123</a> <a href=\"http://map.baidu.com\" name=\"tj_trmap\" class=\"mnav\">å°å¾</a> <a href=\"http://v.baidu.com\" name=\"tj_trvideo\" class=\"mnav\">è§é¢</a> <a href=\"http://tieba.baidu.com\" name=\"tj_trtieba\" class=\"mnav\">è´´å§</a> <noscript> <a href=\"http://www.baidu.com/bdorz/login.gif?login&amp;tpl=mn&amp;u=http%3A%2F%2Fwww.baidu.com%2f%3fbdorz_come%3d1\" name=\"tj_login\" class=\"lb\">ç»å½</a> </noscript> <script>document.write('&lt;a href=\"http://www.baidu.com/bdorz/login.gif?login&amp;tpl=mn&amp;u='+ encodeURIComponent(window.location.href+ (window.location.search === \"\" ? \"?\" : \"&amp;\")+ \"bdorz_come=1\")+ '\" name=\"tj_login\" class=\"lb\"&gt;ç»å½&lt;/a&gt;');&#13;\n",
      "                </script> <a href=\"//www.baidu.com/more/\" name=\"tj_briicon\" class=\"bri\" style=\"display: block;\">æ´å¤äº§å</a> </div> </div> </div> <div id=\"ftCon\"> <div id=\"ftConw\"> <p id=\"lh\"> <a href=\"http://home.baidu.com\">å",
      "³äºç¾åº¦</a> <a href=\"http://ir.baidu.com\">About Baidu</a> </p> <p id=\"cp\">©2017 Baidu <a href=\"http://www.baidu.com/duty/\">ä½¿ç¨ç¾åº¦åå¿",
      "è¯»</a>  <a href=\"http://jianyi.baidu.com/\" class=\"cp-feedback\">æè§åé¦</a> äº¬ICPè¯030173å·  <img src=\"//www.baidu.com/img/gs.gif\"/> </p> </div> </div> </div> </body> </html>\n",
      "<head><meta http-equiv=\"content-type\" content=\"text/html;charset=utf-8\"/><meta http-equiv=\"X-UA-Compatible\" content=\"IE=Edge\"/><meta content=\"always\" name=\"referrer\"/><link rel=\"stylesheet\" type=\"text/css\" href=\"https://ss1.bdstatic.com/5eN1bjq8AAUYm2zgoY3K/r/www/cache/bdorz/baidu.min.css\"/><title>ç¾åº¦ä¸ä¸ï¼ä½ å°±ç¥é</title></head> \n"
     ]
    }
   ],
   "source": [
    "#打开html文件\n",
    "#\n",
    "#from pyquery import PyQuery as pq\n",
    "#doc = pq(filename='index.html')\n",
    "#print(doc)\n",
    "#print(doc('head'))\n",
    "\n",
    "doc = pq('https://www.baidu.com')\n",
    "# doc1 = pq(url='https://www.baidu.com')\n",
    "print(doc)\n",
    "print(doc('head'))"
   ]
  },
  {
   "cell_type": "code",
   "execution_count": 8,
   "metadata": {
    "collapsed": false
   },
   "outputs": [
    {
     "name": "stdout",
     "output_type": "stream",
     "text": [
      "<div>\n",
      "    <ul id=\"haha\">\n",
      "         <li class=\"item-0\">first item</li>\n",
      "         <li class=\"item-1\"><a href=\"link2.html\">second item</a></li>\n",
      "         <li class=\"item-0 active\"><a href=\"link3.html\"><span class=\"bold\">third item</span></a></li>\n",
      "         <li class=\"item-1 active\"><a href=\"link4.html\">fourth item</a></li>\n",
      "         <li class=\"item-0\"><a href=\"link5.html\">fifth item</a></li>\n",
      "     </ul></div>\n",
      "<span class=\"bold\">third item</span>\n"
     ]
    }
   ],
   "source": [
    "#基于CSS选择器查找\n",
    "\n",
    "from pyquery import PyQuery as pq\n",
    " \n",
    "html = '''<div>\n",
    "    <ul id = 'haha'>\n",
    "         <li class=\"item-0\">first item</li>\n",
    "         <li class=\"item-1\"><a href=\"link2.html\">second item</a></li>\n",
    "         <li class=\"item-0 active\"><a href=\"link3.html\"><span class=\"bold\">third item</span></a></li>\n",
    "         <li class=\"item-1 active\"><a href=\"link4.html\">fourth item</a></li>\n",
    "         <li class=\"item-0\"><a href=\"link5.html\">fifth item</a></li>\n",
    "     </ul></div>'''\n",
    " \n",
    "doc = pq(html)\n",
    "print(doc)\n",
    "#id等于haha下面的class等于item-0下的a标签下的span标签（注意层级关系以空格隔开）\n",
    "print(doc('#haha .item-0 a span'))\n"
   ]
  },
  {
   "cell_type": "markdown",
   "metadata": {},
   "source": [
    "![image.png](https://p.pstatp.com/origin/ff5c00009f13fb4fbb2a)"
   ]
  },
  {
   "cell_type": "code",
   "execution_count": 12,
   "metadata": {
    "collapsed": false
   },
   "outputs": [
    {
     "name": "stdout",
     "output_type": "stream",
     "text": [
      "<li class=\"item-0\">first item</li>\n",
      "         <li class=\"item-1\"><a href=\"link2.html\">second item</a></li>\n",
      "         <li class=\"item-0 active\"><a href=\"link3.html\"><span class=\"bold\">third item</span></a></li>\n",
      "         <li class=\"item-1 active\"><a href=\"link4.html\">fourth item</a></li>\n",
      "         <li class=\"item-0\"><a href=\"link5.html\">fifth item</a></li>\n",
      "     \n"
     ]
    }
   ],
   "source": [
    "#5、可以通过已经查找的标签，查找这个标签下的子标签或者父标签，而不用从头开始查找。\n",
    "\n",
    "from pyquery import PyQuery as pq\n",
    " \n",
    "html = '''<div class=‘content’>\n",
    "    <ul id = 'haha'>\n",
    "         <li class=\"item-0\">first item</li>\n",
    "         <li class=\"item-1\"><a href=\"link2.html\">second item</a></li>\n",
    "         <li class=\"item-0 active\"><a href=\"link3.html\"><span class=\"bold\">third item</span></a></li>\n",
    "         <li class=\"item-1 active\"><a href=\"link4.html\">fourth item</a></li>\n",
    "         <li class=\"item-0\"><a href=\"link5.html\">fifth item</a></li>\n",
    "     </ul></div>'''\n",
    " \n",
    "doc = pq(html)\n",
    "item = doc('div ul')\n",
    "#print(item)\n",
    "#我们可以通过已经查找到的标签，再此查找这个标签下面的标签\n",
    "#print(item.parent())\n",
    "print(item.children())"
   ]
  },
  {
   "cell_type": "code",
   "execution_count": 13,
   "metadata": {
    "collapsed": false
   },
   "outputs": [
    {
     "name": "stdout",
     "output_type": "stream",
     "text": [
      "<ul id=\"haha\">\n",
      "         <li class=\"item-0\">first item</li>\n",
      "         <li class=\"item-1\"><a href=\"link2.html\">second item</a></li>\n",
      "         <li class=\"item-0 active\"><a href=\"link3.html\"><span class=\"bold\">third item</span></a></li>\n",
      "         <li class=\"item-1 active\"><a href=\"link4.html\">fourth item</a></li>\n",
      "         <li class=\"item-0\"><a href=\"link5.html\">fifth item</a></li>\n",
      "     </ul>\n",
      "<li class=\"item-0\">first item</li>\n",
      "         <li class=\"item-1\"><a href=\"link2.html\">second item</a></li>\n",
      "         <li class=\"item-0 active\"><a href=\"link3.html\"><span class=\"bold\">third item</span></a></li>\n",
      "         <li class=\"item-1 active\"><a href=\"link4.html\">fourth item</a></li>\n",
      "         <li class=\"item-0\"><a href=\"link5.html\">fifth item</a></li>\n",
      "     \n"
     ]
    }
   ],
   "source": [
    "from pyquery import PyQuery as pq\n",
    " \n",
    "html = '''<div class=‘content’>\n",
    "    <ul id = 'haha'>\n",
    "         <li class=\"item-0\">first item</li>\n",
    "         <li class=\"item-1\"><a href=\"link2.html\">second item</a></li>\n",
    "         <li class=\"item-0 active\"><a href=\"link3.html\"><span class=\"bold\">third item</span></a></li>\n",
    "         <li class=\"item-1 active\"><a href=\"link4.html\">fourth item</a></li>\n",
    "         <li class=\"item-0\"><a href=\"link5.html\">fifth item</a></li>\n",
    "     </ul></div>'''\n",
    " \n",
    "doc = pq(html)\n",
    "item = doc('div ul')\n",
    "print(item)\n",
    "#注意这里查找ul标签的所有子标签，也就是li标签，下面是查找class属性的标签，如果你把class换成href肯定不行，它指的只是儿子并不是子子孙孙\n",
    "print(item.children('[class]'))"
   ]
  },
  {
   "cell_type": "code",
   "execution_count": 14,
   "metadata": {
    "collapsed": false
   },
   "outputs": [
    {
     "name": "stdout",
     "output_type": "stream",
     "text": [
      "<class 'pyquery.pyquery.PyQuery'>\n",
      "<a href=\"link3.html\"><span class=\"bold\">third item</span></a>\n",
      "link3.html\n",
      "link3.html\n"
     ]
    }
   ],
   "source": [
    "#6、获取属性值\n",
    "\n",
    "from pyquery import PyQuery as pq\n",
    " \n",
    "html = '''<div class=‘content’>\n",
    "    <ul id = 'haha'>\n",
    "         <li class=\"item-0\">first item</li>\n",
    "         <li class=\"item-1\"><a href=\"link2.html\">second item</a></li>\n",
    "         <li class=\"item-0 active\"><a href=\"link3.html\"><span class=\"bold\">third item</span></a></li>\n",
    "         <li class=\"item-1 active\"><a href=\"link4.html\">fourth item</a></li>\n",
    "         <li class=\"item-0\"><a href=\"link5.html\">fifth item</a></li>\n",
    "     </ul></div>'''\n",
    " \n",
    "doc = pq(html)\n",
    "#注意class=item-0 active是一个class的属性，但是在pyquery里面要是中间也是空格隔开的话，\n",
    "#就变成了item-0下的active标签下的a标签了，所以这里空格必须改成点\n",
    "item = doc(\".item-0.active a\")\n",
    "print(type(item))\n",
    "print(item)\n",
    "#获取属性值的两种方法\n",
    "print(item.attr.href)\n",
    "print(item.attr('href'))"
   ]
  },
  {
   "cell_type": "code",
   "execution_count": 15,
   "metadata": {
    "collapsed": false
   },
   "outputs": [
    {
     "name": "stdout",
     "output_type": "stream",
     "text": [
      "second item third item fourth item fifth item\n"
     ]
    }
   ],
   "source": [
    "#7、获取标签的内容\n",
    "\n",
    "from pyquery import PyQuery as pq\n",
    " \n",
    "html = '''<div class=‘content’>\n",
    "    <ul id = 'haha'>\n",
    "         <li class=\"item-0\">first item</li>\n",
    "         <li class=\"item-1\"><a href=\"link2.html\">second item</a></li>\n",
    "         <li class=\"item-0 active\"><a href=\"link3.html\"><span class=\"bold\">third item</span></a></li>\n",
    "         <li class=\"item-1 active\"><a href=\"link4.html\">fourth item</a></li>\n",
    "         <li class=\"item-0\"><a href=\"link5.html\">fifth item</a></li>\n",
    "     </ul></div>'''\n",
    " \n",
    "doc = pq(html)\n",
    "a = doc(\"a\").text()\n",
    "print(a)"
   ]
  },
  {
   "cell_type": "code",
   "execution_count": 16,
   "metadata": {
    "collapsed": false
   },
   "outputs": [
    {
     "name": "stdout",
     "output_type": "stream",
     "text": [
      "<li class=\"item-0 active\"><a href=\"link3.html\"><span class=\"bold\">third item</span></a></li>\n",
      "         \n",
      "<li class=\"item-0\"><a href=\"link3.html\"><span class=\"bold\">third item</span></a></li>\n",
      "         \n",
      "<li class=\"item-0 haha\"><a href=\"link3.html\"><span class=\"bold\">third item</span></a></li>\n",
      "         \n"
     ]
    }
   ],
   "source": [
    "#8、Dom操作\n",
    "#\n",
    "#1、属性的增加删除操作\n",
    "\n",
    "from pyquery import PyQuery as pq\n",
    " \n",
    "html = '''<div class=‘content’>\n",
    "    <ul id = 'haha'>\n",
    "         <li class=\"item-0\">first item</li>\n",
    "         <li class=\"item-1\"><a href=\"link2.html\">second item</a></li>\n",
    "         <li class=\"item-0 active\"><a href=\"link3.html\"><span class=\"bold\">third item</span></a></li>\n",
    "         <li class=\"item-1 active\"><a href=\"link4.html\">fourth item</a></li>\n",
    "         <li class=\"item-0\"><a href=\"link5.html\">fifth item</a></li>\n",
    "     </ul></div>'''\n",
    " \n",
    "doc = pq(html)\n",
    "li = doc('.item-0.active')\n",
    "print(li)\n",
    "#删除classactive\n",
    "print(li.removeClass('active'))\n",
    "#增加class属性haha\n",
    "print(li.addClass('haha'))"
   ]
  },
  {
   "cell_type": "code",
   "execution_count": 17,
   "metadata": {
    "collapsed": false
   },
   "outputs": [
    {
     "name": "stdout",
     "output_type": "stream",
     "text": [
      "<li class=\"item-0 active\"><a href=\"link3.html\"><span class=\"bold\">third item</span></a></li>\n",
      "         \n",
      "<li class=\"item-0 active\" id=\"id_test\"><a href=\"link3.html\"><span class=\"bold\">third item</span></a></li>\n",
      "         \n",
      "<li class=\"item-0 active\" id=\"id_test\" style=\"font-size: 20px\"><a href=\"link3.html\"><span class=\"bold\">third item</span></a></li>\n",
      "         \n"
     ]
    }
   ],
   "source": [
    "#2、attrs和css\n",
    "#\n",
    "#　　注意：下列操作有则改之，无则加之。\n",
    "    \n",
    "from pyquery import PyQuery as pq\n",
    " \n",
    "html = '''<div class=‘content’>\n",
    "    <ul id = 'haha'>\n",
    "         <li class=\"item-0\">first item</li>\n",
    "         <li class=\"item-1\"><a href=\"link2.html\">second item</a></li>\n",
    "         <li class=\"item-0 active\"><a href=\"link3.html\"><span class=\"bold\">third item</span></a></li>\n",
    "         <li class=\"item-1 active\"><a href=\"link4.html\">fourth item</a></li>\n",
    "         <li class=\"item-0\"><a href=\"link5.html\">fifth item</a></li>\n",
    "     </ul></div>'''\n",
    " \n",
    "doc = pq(html)\n",
    "li = doc('.item-0.active')\n",
    "print(li)\n",
    "print(li.attr('id','id_test'))\n",
    "print(li.css('font-size','20px'))    "
   ]
  },
  {
   "cell_type": "code",
   "execution_count": 19,
   "metadata": {
    "collapsed": false
   },
   "outputs": [
    {
     "name": "stdout",
     "output_type": "stream",
     "text": [
      "first item\n"
     ]
    }
   ],
   "source": [
    "#3、删除某个标签，在爬去过程中我们通常爬去一下标签或者内容下来的时候总会有些不想要的标签，这个时候我们可以用下面的类似方法删除这个标签。\n",
    "\n",
    "from pyquery import PyQuery as pq\n",
    " \n",
    "html = '''<div class='content'>\n",
    "    <ul id = 'haha'>\n",
    "         <li class=\"item-0\">first item</li>\n",
    "         <li class=\"item-1\"><a href=\"link2.html\">second item</a></li>\n",
    "         <li class=\"item-0 active\"><a href=\"link3.html\"><span class=\"bold\">third item</span></a></li>\n",
    "         <li class=\"item-1 active\"><a href=\"link4.html\">fourth item</a></li>\n",
    "         <li class=\"item-0\"><a href=\"link5.html\">fifth item</a></li>\n",
    "     </ul></div>'''\n",
    " \n",
    "doc = pq(html)\n",
    "data = doc('.content')\n",
    "#print(data.text())\n",
    "#删除所有a标签\n",
    "data.find('a').remove()\n",
    "#再次打印\n",
    "print(data.text())"
   ]
  },
  {
   "cell_type": "code",
   "execution_count": null,
   "metadata": {
    "collapsed": true
   },
   "outputs": [],
   "source": []
  }
 ],
 "metadata": {
  "kernelspec": {
   "display_name": "Python 3",
   "language": "python",
   "name": "python3"
  },
  "language_info": {
   "codemirror_mode": {
    "name": "ipython",
    "version": 3
   },
   "file_extension": ".py",
   "mimetype": "text/x-python",
   "name": "python",
   "nbconvert_exporter": "python",
   "pygments_lexer": "ipython3",
   "version": "3.5.1"
  }
 },
 "nbformat": 4,
 "nbformat_minor": 0
}
